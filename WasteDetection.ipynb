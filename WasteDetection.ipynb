{
  "nbformat": 4,
  "nbformat_minor": 0,
  "metadata": {
    "colab": {
      "provenance": [],
      "gpuType": "T4"
    },
    "kernelspec": {
      "name": "python3",
      "display_name": "Python 3"
    },
    "language_info": {
      "name": "python"
    }
  },
  "cells": [
    {
      "cell_type": "code",
      "execution_count": null,
      "metadata": {
        "id": "hAuLWCubAOtH"
      },
      "outputs": [],
      "source": [
        "@article{yudin2024hierarchical,\n",
        "  title={Hierarchical waste detection with weakly supervised segmentation in images from recycling plants},\n",
        "  author={Yudin, Dmitry and Zakharenko, Nikita and Smetanin, Artem and Filonov, Roman and Kichik, Margarita and Kuznetsov, Vladislav and Larichev, Dmitry and Gudov, Evgeny and Budennyy, Semen and Panov, Aleksandr},\n",
        "  journal={Engineering Applications of Artificial Intelligence},\n",
        "  volume={128},\n",
        "  pages={107542},\n",
        "  year={2024},\n",
        "  publisher={Elsevier}\n",
        "}\n",
        " @article{yolox2021,\n",
        "  title={YOLOX: Exceeding YOLO Series in 2021},\n",
        "  author={Ge, Zheng and Liu, Songtao and Wang, Feng and Li, Zeming and Sun, Jian},\n",
        "  journal={arXiv preprint arXiv:2107.08430},\n",
        "  year={2021}\n",
        "}\n",
        "@inproceedings{feng2021tood,\n",
        "    title={TOOD: Task-aligned One-stage Object Detection},\n",
        "    author={Feng, Chengjian and Zhong, Yujie and Gao, Yu and Scott, Matthew R and Huang, Weilin},\n",
        "    booktitle={ICCV},\n",
        "    year={2021}\n",
        "}\n",
        "@article{\n",
        "title: Ultralytics YOLO\n",
        "authors:\n",
        "  - given-names: Glenn\n",
        "    family-names: Jocher\n",
        "    affiliation: Ultralytics\n",
        "    orcid: 'https://orcid.org/0000-0001-5950-6979'\n",
        "  - given-names: Ayush\n",
        "    family-names: Chaurasia\n",
        "    affiliation: Ultralytics\n",
        "    orcid: 'https://orcid.org/0000-0002-7603-6750'\n",
        "  - family-names: Qiu\n",
        "    given-names: Jing\n",
        "    affiliation: Ultralytics\n",
        "    orcid: 'https://orcid.org/0000-0003-3783-7069'\n",
        "repository-code: 'https://github.com/ultralytics/ultralytics'\n",
        "url: 'https://ultralytics.com'\n",
        "license: AGPL-3.0\n",
        "version: 8.0.0\n",
        "date-released: '2023-01-10'\n",
        "}\n"
      ]
    },
    {
      "cell_type": "markdown",
      "source": [
        "Загрузим WaRP-D dataset"
      ],
      "metadata": {
        "id": "Xy0lXXNEOeMk"
      }
    },
    {
      "cell_type": "code",
      "source": [
        "! git clone https://github.com/AIRI-Institute/WaRP"
      ],
      "metadata": {
        "colab": {
          "base_uri": "https://localhost:8080/"
        },
        "id": "dPgB6_jGOkQs",
        "outputId": "a3c228ca-fdf1-4762-c3f0-c9a1fb75581b"
      },
      "execution_count": 2,
      "outputs": [
        {
          "output_type": "stream",
          "name": "stdout",
          "text": [
            "Cloning into 'WaRP'...\n",
            "remote: Enumerating objects: 16721, done.\u001b[K\n",
            "remote: Counting objects: 100% (45/45), done.\u001b[K\n",
            "remote: Compressing objects: 100% (45/45), done.\u001b[K\n",
            "remote: Total 16721 (delta 28), reused 0 (delta 0), pack-reused 16676\u001b[K\n",
            "Receiving objects: 100% (16721/16721), 794.77 MiB | 35.88 MiB/s, done.\n",
            "Resolving deltas: 100% (110/110), done.\n",
            "Updating files: 100% (16898/16898), done.\n"
          ]
        }
      ]
    },
    {
      "cell_type": "code",
      "source": [
        "import warnings\n",
        "warnings.filterwarnings('ignore')"
      ],
      "metadata": {
        "id": "ioX_8dm7ZEij"
      },
      "execution_count": 3,
      "outputs": []
    },
    {
      "cell_type": "markdown",
      "source": [
        "Создадим .yaml файл для передачи датасета в YOLOМ5 модель:"
      ],
      "metadata": {
        "id": "XwZ1HQiI3gVG"
      }
    },
    {
      "cell_type": "code",
      "source": [
        "!git clone https://github.com/lluciola/WaRP_project/"
      ],
      "metadata": {
        "colab": {
          "base_uri": "https://localhost:8080/"
        },
        "id": "teh3_lVXZFin",
        "outputId": "d21e887e-6a61-4f77-d7e6-0a70b59c9829"
      },
      "execution_count": 4,
      "outputs": [
        {
          "output_type": "stream",
          "name": "stdout",
          "text": [
            "Cloning into 'WaRP_project'...\n",
            "remote: Enumerating objects: 25, done.\u001b[K\n",
            "remote: Counting objects: 100% (25/25), done.\u001b[K\n",
            "remote: Compressing objects: 100% (20/20), done.\u001b[K\n",
            "remote: Total 25 (delta 5), reused 0 (delta 0), pack-reused 0\u001b[K\n",
            "Receiving objects: 100% (25/25), 10.21 KiB | 5.10 MiB/s, done.\n",
            "Resolving deltas: 100% (5/5), done.\n"
          ]
        }
      ]
    },
    {
      "cell_type": "markdown",
      "source": [
        "**YOLOX-m model**"
      ],
      "metadata": {
        "id": "wb_4mYbUUs3U"
      }
    },
    {
      "cell_type": "code",
      "source": [
        "import locale\n",
        "locale.getpreferredencoding = lambda: \"UTF-8\" #иначе выдает ошибку"
      ],
      "metadata": {
        "id": "jlT1TQ2-oJfL"
      },
      "execution_count": 5,
      "outputs": []
    },
    {
      "cell_type": "code",
      "source": [
        "!git clone https://github.com/Megvii-BaseDetection/YOLOX -q\n",
        "\n",
        "%cd YOLOX\n",
        "!pip install -U pip && pip install -r requirements.txt\n",
        "!pip install -v -e  ."
      ],
      "metadata": {
        "id": "QJxlvctxUpj5"
      },
      "execution_count": null,
      "outputs": []
    },
    {
      "cell_type": "code",
      "source": [
        "!cp ./tools/train.py ./"
      ],
      "metadata": {
        "id": "dTWjdhP4rKq5"
      },
      "execution_count": 6,
      "outputs": []
    },
    {
      "cell_type": "code",
      "source": [
        "!ln -s /content/WaRP_project/warp-d_config.yaml /content/YOLOX/datasets"
      ],
      "metadata": {
        "id": "HlvtS9wjymoS",
        "colab": {
          "base_uri": "https://localhost:8080/"
        },
        "outputId": "54854443-d0d3-4556-98bc-da7f70199409"
      },
      "execution_count": 7,
      "outputs": [
        {
          "output_type": "stream",
          "name": "stdout",
          "text": [
            "ln: failed to create symbolic link '/content/YOLOX/datasets/warp-d_config.yaml': File exists\n"
          ]
        }
      ]
    },
    {
      "cell_type": "code",
      "source": [
        "!pip install --upgrade nvidia-pyindex"
      ],
      "metadata": {
        "colab": {
          "base_uri": "https://localhost:8080/"
        },
        "id": "BIPqjvhchZBD",
        "outputId": "75aaa1b7-1534-4909-ab86-bde29d98bb2c"
      },
      "execution_count": 8,
      "outputs": [
        {
          "output_type": "stream",
          "name": "stdout",
          "text": [
            "Requirement already satisfied: nvidia-pyindex in /usr/local/lib/python3.10/dist-packages (1.0.9)\n",
            "\u001b[33mWARNING: Running pip as the 'root' user can result in broken permissions and conflicting behaviour with the system package manager. It is recommended to use a virtual environment instead: https://pip.pypa.io/warnings/venv\u001b[0m\u001b[33m\n",
            "\u001b[0m"
          ]
        }
      ]
    },
    {
      "cell_type": "code",
      "source": [
        "!nvidia-smi\n"
      ],
      "metadata": {
        "colab": {
          "base_uri": "https://localhost:8080/"
        },
        "id": "Gx9dXJVNhGss",
        "outputId": "d3584ddd-f759-4c0d-86b2-ababd1813ab8"
      },
      "execution_count": 1,
      "outputs": [
        {
          "output_type": "stream",
          "name": "stdout",
          "text": [
            "/bin/bash: line 1: nvidia-smi: command not found\n"
          ]
        }
      ]
    },
    {
      "cell_type": "code",
      "source": [
        "import torch\n",
        "\n",
        "train_on_gpu = torch.cuda.is_available()\n",
        "train_on_gpu"
      ],
      "metadata": {
        "id": "jd5J0DyBcAMs",
        "outputId": "ed3c23b5-b748-439d-df29-7fcf193442d9",
        "colab": {
          "base_uri": "https://localhost:8080/"
        }
      },
      "execution_count": 2,
      "outputs": [
        {
          "output_type": "execute_result",
          "data": {
            "text/plain": [
              "False"
            ]
          },
          "metadata": {},
          "execution_count": 2
        }
      ]
    },
    {
      "cell_type": "code",
      "source": [
        "!python tools/train.py -f /content/WaRP_project/yolox_m.py -d 0 -b 64 --fp16 -o"
      ],
      "metadata": {
        "colab": {
          "base_uri": "https://localhost:8080/"
        },
        "id": "-sw4bv5a9NLN",
        "outputId": "8599e8f1-664c-4b32-9815-184548777992"
      },
      "execution_count": 9,
      "outputs": [
        {
          "output_type": "stream",
          "name": "stdout",
          "text": [
            "2024-03-24 17:20:17.491523: E external/local_xla/xla/stream_executor/cuda/cuda_dnn.cc:9261] Unable to register cuDNN factory: Attempting to register factory for plugin cuDNN when one has already been registered\n",
            "2024-03-24 17:20:17.491664: E external/local_xla/xla/stream_executor/cuda/cuda_fft.cc:607] Unable to register cuFFT factory: Attempting to register factory for plugin cuFFT when one has already been registered\n",
            "2024-03-24 17:20:17.630013: E external/local_xla/xla/stream_executor/cuda/cuda_blas.cc:1515] Unable to register cuBLAS factory: Attempting to register factory for plugin cuBLAS when one has already been registered\n",
            "2024-03-24 17:20:20.090939: W tensorflow/compiler/tf2tensorrt/utils/py_utils.cc:38] TF-TRT Warning: Could not find TensorRT\n",
            "/bin/sh: 1: nvidia-smi: not found\n",
            "/usr/local/lib/python3.10/dist-packages/torch/cuda/amp/grad_scaler.py:126: UserWarning: torch.cuda.amp.GradScaler is enabled, but CUDA is not available.  Disabling.\n",
            "  warnings.warn(\n",
            "\u001b[32m2024-03-24 17:20:21\u001b[0m | \u001b[1mINFO    \u001b[0m | \u001b[36myolox.core.trainer\u001b[0m:\u001b[36m130\u001b[0m - \u001b[1margs: Namespace(experiment_name='yolox_m', name=None, dist_backend='nccl', dist_url=None, batch_size=64, devices=0, exp_file='/content/WaRP_project/yolox_m.py', resume=False, ckpt=None, start_epoch=None, num_machines=1, machine_rank=0, fp16=True, cache=None, occupy=True, logger='tensorboard', opts=[])\u001b[0m\n",
            "\u001b[32m2024-03-24 17:20:21\u001b[0m | \u001b[1mINFO    \u001b[0m | \u001b[36myolox.core.trainer\u001b[0m:\u001b[36m131\u001b[0m - \u001b[1mexp value:\n",
            "╒═══════════════════╤═══════════════════════════════╕\n",
            "│ keys              │ values                        │\n",
            "╞═══════════════════╪═══════════════════════════════╡\n",
            "│ seed              │ None                          │\n",
            "├───────────────────┼───────────────────────────────┤\n",
            "│ output_dir        │ './YOLOX_outputs'             │\n",
            "├───────────────────┼───────────────────────────────┤\n",
            "│ print_interval    │ 10                            │\n",
            "├───────────────────┼───────────────────────────────┤\n",
            "│ eval_interval     │ 10                            │\n",
            "├───────────────────┼───────────────────────────────┤\n",
            "│ dataset           │ None                          │\n",
            "├───────────────────┼───────────────────────────────┤\n",
            "│ num_classes       │ 28                            │\n",
            "├───────────────────┼───────────────────────────────┤\n",
            "│ depth             │ 0.67                          │\n",
            "├───────────────────┼───────────────────────────────┤\n",
            "│ width             │ 0.75                          │\n",
            "├───────────────────┼───────────────────────────────┤\n",
            "│ act               │ 'silu'                        │\n",
            "├───────────────────┼───────────────────────────────┤\n",
            "│ data_num_workers  │ 4                             │\n",
            "├───────────────────┼───────────────────────────────┤\n",
            "│ input_size        │ (640, 640)                    │\n",
            "├───────────────────┼───────────────────────────────┤\n",
            "│ multiscale_range  │ 5                             │\n",
            "├───────────────────┼───────────────────────────────┤\n",
            "│ data_dir          │ 'datasets/warp-d_config.yaml' │\n",
            "├───────────────────┼───────────────────────────────┤\n",
            "│ train_ann         │ 'instances_train2017.json'    │\n",
            "├───────────────────┼───────────────────────────────┤\n",
            "│ val_ann           │ 'instances_val2017.json'      │\n",
            "├───────────────────┼───────────────────────────────┤\n",
            "│ test_ann          │ 'instances_test2017.json'     │\n",
            "├───────────────────┼───────────────────────────────┤\n",
            "│ mosaic_prob       │ 1.0                           │\n",
            "├───────────────────┼───────────────────────────────┤\n",
            "│ mixup_prob        │ 1.0                           │\n",
            "├───────────────────┼───────────────────────────────┤\n",
            "│ hsv_prob          │ 1.0                           │\n",
            "├───────────────────┼───────────────────────────────┤\n",
            "│ flip_prob         │ 0.5                           │\n",
            "├───────────────────┼───────────────────────────────┤\n",
            "│ degrees           │ 10.0                          │\n",
            "├───────────────────┼───────────────────────────────┤\n",
            "│ translate         │ 0.1                           │\n",
            "├───────────────────┼───────────────────────────────┤\n",
            "│ mosaic_scale      │ (0.1, 2)                      │\n",
            "├───────────────────┼───────────────────────────────┤\n",
            "│ enable_mixup      │ True                          │\n",
            "├───────────────────┼───────────────────────────────┤\n",
            "│ mixup_scale       │ (0.5, 1.5)                    │\n",
            "├───────────────────┼───────────────────────────────┤\n",
            "│ shear             │ 2.0                           │\n",
            "├───────────────────┼───────────────────────────────┤\n",
            "│ warmup_epochs     │ 5                             │\n",
            "├───────────────────┼───────────────────────────────┤\n",
            "│ max_epoch         │ 10                            │\n",
            "├───────────────────┼───────────────────────────────┤\n",
            "│ warmup_lr         │ 0                             │\n",
            "├───────────────────┼───────────────────────────────┤\n",
            "│ min_lr_ratio      │ 0.05                          │\n",
            "├───────────────────┼───────────────────────────────┤\n",
            "│ basic_lr_per_img  │ 0.00015625                    │\n",
            "├───────────────────┼───────────────────────────────┤\n",
            "│ scheduler         │ 'yoloxwarmcos'                │\n",
            "├───────────────────┼───────────────────────────────┤\n",
            "│ no_aug_epochs     │ 15                            │\n",
            "├───────────────────┼───────────────────────────────┤\n",
            "│ ema               │ True                          │\n",
            "├───────────────────┼───────────────────────────────┤\n",
            "│ weight_decay      │ 0.0005                        │\n",
            "├───────────────────┼───────────────────────────────┤\n",
            "│ momentum          │ 0.9                           │\n",
            "├───────────────────┼───────────────────────────────┤\n",
            "│ save_history_ckpt │ True                          │\n",
            "├───────────────────┼───────────────────────────────┤\n",
            "│ exp_name          │ 'yolox_m'                     │\n",
            "├───────────────────┼───────────────────────────────┤\n",
            "│ test_size         │ (640, 640)                    │\n",
            "├───────────────────┼───────────────────────────────┤\n",
            "│ test_conf         │ 0.01                          │\n",
            "├───────────────────┼───────────────────────────────┤\n",
            "│ nmsthre           │ 0.65                          │\n",
            "╘═══════════════════╧═══════════════════════════════╛\u001b[0m\n",
            "\u001b[32m2024-03-24 17:20:21\u001b[0m | \u001b[31m\u001b[1mERROR   \u001b[0m | \u001b[36myolox.core.launch\u001b[0m:\u001b[36m98\u001b[0m - \u001b[31m\u001b[1mAn error has been caught in function 'launch', process 'MainProcess' (1652), thread 'MainThread' (135078232576000):\u001b[0m\n",
            "\u001b[33m\u001b[1mTraceback (most recent call last):\u001b[0m\n",
            "\n",
            "  File \"\u001b[32m/content/YOLOX/tools/\u001b[0m\u001b[32m\u001b[1mtrain.py\u001b[0m\", line \u001b[33m138\u001b[0m, in \u001b[35m<module>\u001b[0m\n",
            "    \u001b[1mlaunch\u001b[0m\u001b[1m(\u001b[0m\n",
            "    \u001b[36m└ \u001b[0m\u001b[36m\u001b[1m<function launch at 0x7ad9a3a737f0>\u001b[0m\n",
            "\n",
            "> File \"\u001b[32m/content/YOLOX/yolox/core/\u001b[0m\u001b[32m\u001b[1mlaunch.py\u001b[0m\", line \u001b[33m98\u001b[0m, in \u001b[35mlaunch\u001b[0m\n",
            "    \u001b[1mmain_func\u001b[0m\u001b[1m(\u001b[0m\u001b[35m\u001b[1m*\u001b[0m\u001b[1margs\u001b[0m\u001b[1m)\u001b[0m\n",
            "    \u001b[36m│          └ \u001b[0m\u001b[36m\u001b[1m(╒═══════════════════╤═══════════════════════════════╕\u001b[0m\n",
            "    \u001b[36m│            \u001b[0m\u001b[36m\u001b[1m│ keys              │ values                        │\u001b[0m\n",
            "    \u001b[36m│            \u001b[0m\u001b[36m\u001b[1m╞═══════════════...\u001b[0m\n",
            "    \u001b[36m└ \u001b[0m\u001b[36m\u001b[1m<function main at 0x7ad97d7f1bd0>\u001b[0m\n",
            "\n",
            "  File \"\u001b[32m/content/YOLOX/tools/\u001b[0m\u001b[32m\u001b[1mtrain.py\u001b[0m\", line \u001b[33m118\u001b[0m, in \u001b[35mmain\u001b[0m\n",
            "    \u001b[1mtrainer\u001b[0m\u001b[35m\u001b[1m.\u001b[0m\u001b[1mtrain\u001b[0m\u001b[1m(\u001b[0m\u001b[1m)\u001b[0m\n",
            "    \u001b[36m│       └ \u001b[0m\u001b[36m\u001b[1m<function Trainer.train at 0x7ad9317e3400>\u001b[0m\n",
            "    \u001b[36m└ \u001b[0m\u001b[36m\u001b[1m<yolox.core.trainer.Trainer object at 0x7ad9317e7520>\u001b[0m\n",
            "\n",
            "  File \"\u001b[32m/content/YOLOX/yolox/core/\u001b[0m\u001b[32m\u001b[1mtrainer.py\u001b[0m\", line \u001b[33m74\u001b[0m, in \u001b[35mtrain\u001b[0m\n",
            "    \u001b[1mself\u001b[0m\u001b[35m\u001b[1m.\u001b[0m\u001b[1mbefore_train\u001b[0m\u001b[1m(\u001b[0m\u001b[1m)\u001b[0m\n",
            "    \u001b[36m│    └ \u001b[0m\u001b[36m\u001b[1m<function Trainer.before_train at 0x7ad9317e3640>\u001b[0m\n",
            "    \u001b[36m└ \u001b[0m\u001b[36m\u001b[1m<yolox.core.trainer.Trainer object at 0x7ad9317e7520>\u001b[0m\n",
            "\n",
            "  File \"\u001b[32m/content/YOLOX/yolox/core/\u001b[0m\u001b[32m\u001b[1mtrainer.py\u001b[0m\", line \u001b[33m134\u001b[0m, in \u001b[35mbefore_train\u001b[0m\n",
            "    \u001b[1mtorch\u001b[0m\u001b[35m\u001b[1m.\u001b[0m\u001b[1mcuda\u001b[0m\u001b[35m\u001b[1m.\u001b[0m\u001b[1mset_device\u001b[0m\u001b[1m(\u001b[0m\u001b[1mself\u001b[0m\u001b[35m\u001b[1m.\u001b[0m\u001b[1mlocal_rank\u001b[0m\u001b[1m)\u001b[0m\n",
            "    \u001b[36m│     │    │          │    └ \u001b[0m\u001b[36m\u001b[1m0\u001b[0m\n",
            "    \u001b[36m│     │    │          └ \u001b[0m\u001b[36m\u001b[1m<yolox.core.trainer.Trainer object at 0x7ad9317e7520>\u001b[0m\n",
            "    \u001b[36m│     │    └ \u001b[0m\u001b[36m\u001b[1m<function set_device at 0x7ad9ae5f9e10>\u001b[0m\n",
            "    \u001b[36m│     └ \u001b[0m\u001b[36m\u001b[1m<module 'torch.cuda' from '/usr/local/lib/python3.10/dist-packages/torch/cuda/__init__.py'>\u001b[0m\n",
            "    \u001b[36m└ \u001b[0m\u001b[36m\u001b[1m<module 'torch' from '/usr/local/lib/python3.10/dist-packages/torch/__init__.py'>\u001b[0m\n",
            "\n",
            "  File \"/usr/local/lib/python3.10/dist-packages/torch/cuda/__init__.py\", line 408, in set_device\n",
            "    torch._C._cuda_setDevice(device)\n",
            "    │     │  │               └ 0\n",
            "    │     │  └ <built-in function _cuda_setDevice>\n",
            "    │     └ <module 'torch._C' from '/usr/local/lib/python3.10/dist-packages/torch/_C.cpython-310-x86_64-linux-gnu.so'>\n",
            "    └ <module 'torch' from '/usr/local/lib/python3.10/dist-packages/torch/__init__.py'>\n",
            "  File \"/usr/local/lib/python3.10/dist-packages/torch/cuda/__init__.py\", line 302, in _lazy_init\n",
            "    torch._C._cuda_init()\n",
            "    │     │  └ <built-in function _cuda_init>\n",
            "    │     └ <module 'torch._C' from '/usr/local/lib/python3.10/dist-packages/torch/_C.cpython-310-x86_64-linux-gnu.so'>\n",
            "    └ <module 'torch' from '/usr/local/lib/python3.10/dist-packages/torch/__init__.py'>\n",
            "\n",
            "\u001b[31m\u001b[1mRuntimeError\u001b[0m:\u001b[1m Found no NVIDIA driver on your system. Please check that you have an NVIDIA GPU and installed a driver from http://www.nvidia.com/Download/index.aspx\u001b[0m\n"
          ]
        }
      ]
    },
    {
      "cell_type": "markdown",
      "source": [
        "Основные параметры оставляем дефолтными"
      ],
      "metadata": {
        "id": "tufiR8BxiRJz"
      }
    },
    {
      "cell_type": "markdown",
      "source": [
        "**YOLOV5 model**"
      ],
      "metadata": {
        "id": "OBbRTpWrq04I"
      }
    },
    {
      "cell_type": "code",
      "source": [
        "!git clone https://github.com/ultralytics/yolov5  # clone\n",
        "!cd yolov5\n",
        "!pip install -r /content/yolov5/requirements.txt # install"
      ],
      "metadata": {
        "id": "PurwypI2rIBS",
        "colab": {
          "base_uri": "https://localhost:8080/"
        },
        "outputId": "d3ae45a3-bdfe-4728-b059-3ed86bde7afa"
      },
      "execution_count": null,
      "outputs": [
        {
          "output_type": "stream",
          "name": "stdout",
          "text": [
            "Cloning into 'yolov5'...\n",
            "remote: Enumerating objects: 16522, done.\u001b[K\n",
            "remote: Counting objects: 100% (120/120), done.\u001b[K\n",
            "remote: Compressing objects: 100% (104/104), done.\u001b[K\n",
            "remote: Total 16522 (delta 48), reused 51 (delta 16), pack-reused 16402\u001b[K\n",
            "Receiving objects: 100% (16522/16522), 15.13 MiB | 23.12 MiB/s, done.\n",
            "Resolving deltas: 100% (11310/11310), done.\n",
            "Collecting gitpython>=3.1.30 (from -r /content/yolov5/requirements.txt (line 5))\n",
            "  Downloading GitPython-3.1.42-py3-none-any.whl (195 kB)\n",
            "\u001b[2K     \u001b[90m━━━━━━━━━━━━━━━━━━━━━━━━━━━━━━━━━━━━━━━━\u001b[0m \u001b[32m195.4/195.4 kB\u001b[0m \u001b[31m2.0 MB/s\u001b[0m eta \u001b[36m0:00:00\u001b[0m\n",
            "\u001b[?25hRequirement already satisfied: matplotlib>=3.3 in /usr/local/lib/python3.10/dist-packages (from -r /content/yolov5/requirements.txt (line 6)) (3.7.1)\n",
            "Requirement already satisfied: numpy>=1.23.5 in /usr/local/lib/python3.10/dist-packages (from -r /content/yolov5/requirements.txt (line 7)) (1.25.2)\n",
            "Requirement already satisfied: opencv-python>=4.1.1 in /usr/local/lib/python3.10/dist-packages (from -r /content/yolov5/requirements.txt (line 8)) (4.8.0.76)\n",
            "Requirement already satisfied: Pillow>=9.4.0 in /usr/local/lib/python3.10/dist-packages (from -r /content/yolov5/requirements.txt (line 9)) (9.4.0)\n",
            "Requirement already satisfied: psutil in /usr/local/lib/python3.10/dist-packages (from -r /content/yolov5/requirements.txt (line 10)) (5.9.5)\n",
            "Requirement already satisfied: PyYAML>=5.3.1 in /usr/local/lib/python3.10/dist-packages (from -r /content/yolov5/requirements.txt (line 11)) (6.0.1)\n",
            "Requirement already satisfied: requests>=2.23.0 in /usr/local/lib/python3.10/dist-packages (from -r /content/yolov5/requirements.txt (line 12)) (2.31.0)\n",
            "Requirement already satisfied: scipy>=1.4.1 in /usr/local/lib/python3.10/dist-packages (from -r /content/yolov5/requirements.txt (line 13)) (1.11.4)\n",
            "Collecting thop>=0.1.1 (from -r /content/yolov5/requirements.txt (line 14))\n",
            "  Downloading thop-0.1.1.post2209072238-py3-none-any.whl (15 kB)\n",
            "Requirement already satisfied: torch>=1.8.0 in /usr/local/lib/python3.10/dist-packages (from -r /content/yolov5/requirements.txt (line 15)) (2.2.1+cu121)\n",
            "Requirement already satisfied: torchvision>=0.9.0 in /usr/local/lib/python3.10/dist-packages (from -r /content/yolov5/requirements.txt (line 16)) (0.17.1+cu121)\n",
            "Requirement already satisfied: tqdm>=4.64.0 in /usr/local/lib/python3.10/dist-packages (from -r /content/yolov5/requirements.txt (line 17)) (4.66.2)\n",
            "Collecting ultralytics>=8.0.232 (from -r /content/yolov5/requirements.txt (line 18))\n",
            "  Downloading ultralytics-8.1.34-py3-none-any.whl (723 kB)\n",
            "\u001b[2K     \u001b[90m━━━━━━━━━━━━━━━━━━━━━━━━━━━━━━━━━━━━━━━━\u001b[0m \u001b[32m723.1/723.1 kB\u001b[0m \u001b[31m8.3 MB/s\u001b[0m eta \u001b[36m0:00:00\u001b[0m\n",
            "\u001b[?25hRequirement already satisfied: pandas>=1.1.4 in /usr/local/lib/python3.10/dist-packages (from -r /content/yolov5/requirements.txt (line 27)) (1.5.3)\n",
            "Requirement already satisfied: seaborn>=0.11.0 in /usr/local/lib/python3.10/dist-packages (from -r /content/yolov5/requirements.txt (line 28)) (0.13.1)\n",
            "Requirement already satisfied: setuptools>=65.5.1 in /usr/local/lib/python3.10/dist-packages (from -r /content/yolov5/requirements.txt (line 42)) (67.7.2)\n",
            "Requirement already satisfied: wheel>=0.38.0 in /usr/local/lib/python3.10/dist-packages (from -r /content/yolov5/requirements.txt (line 50)) (0.43.0)\n",
            "Collecting gitdb<5,>=4.0.1 (from gitpython>=3.1.30->-r /content/yolov5/requirements.txt (line 5))\n",
            "  Downloading gitdb-4.0.11-py3-none-any.whl (62 kB)\n",
            "\u001b[2K     \u001b[90m━━━━━━━━━━━━━━━━━━━━━━━━━━━━━━━━━━━━━━━━\u001b[0m \u001b[32m62.7/62.7 kB\u001b[0m \u001b[31m5.4 MB/s\u001b[0m eta \u001b[36m0:00:00\u001b[0m\n",
            "\u001b[?25hRequirement already satisfied: contourpy>=1.0.1 in /usr/local/lib/python3.10/dist-packages (from matplotlib>=3.3->-r /content/yolov5/requirements.txt (line 6)) (1.2.0)\n",
            "Requirement already satisfied: cycler>=0.10 in /usr/local/lib/python3.10/dist-packages (from matplotlib>=3.3->-r /content/yolov5/requirements.txt (line 6)) (0.12.1)\n",
            "Requirement already satisfied: fonttools>=4.22.0 in /usr/local/lib/python3.10/dist-packages (from matplotlib>=3.3->-r /content/yolov5/requirements.txt (line 6)) (4.50.0)\n",
            "Requirement already satisfied: kiwisolver>=1.0.1 in /usr/local/lib/python3.10/dist-packages (from matplotlib>=3.3->-r /content/yolov5/requirements.txt (line 6)) (1.4.5)\n",
            "Requirement already satisfied: packaging>=20.0 in /usr/local/lib/python3.10/dist-packages (from matplotlib>=3.3->-r /content/yolov5/requirements.txt (line 6)) (24.0)\n",
            "Requirement already satisfied: pyparsing>=2.3.1 in /usr/local/lib/python3.10/dist-packages (from matplotlib>=3.3->-r /content/yolov5/requirements.txt (line 6)) (3.1.2)\n",
            "Requirement already satisfied: python-dateutil>=2.7 in /usr/local/lib/python3.10/dist-packages (from matplotlib>=3.3->-r /content/yolov5/requirements.txt (line 6)) (2.8.2)\n",
            "Requirement already satisfied: charset-normalizer<4,>=2 in /usr/local/lib/python3.10/dist-packages (from requests>=2.23.0->-r /content/yolov5/requirements.txt (line 12)) (3.3.2)\n",
            "Requirement already satisfied: idna<4,>=2.5 in /usr/local/lib/python3.10/dist-packages (from requests>=2.23.0->-r /content/yolov5/requirements.txt (line 12)) (3.6)\n",
            "Requirement already satisfied: urllib3<3,>=1.21.1 in /usr/local/lib/python3.10/dist-packages (from requests>=2.23.0->-r /content/yolov5/requirements.txt (line 12)) (2.0.7)\n",
            "Requirement already satisfied: certifi>=2017.4.17 in /usr/local/lib/python3.10/dist-packages (from requests>=2.23.0->-r /content/yolov5/requirements.txt (line 12)) (2024.2.2)\n",
            "Requirement already satisfied: filelock in /usr/local/lib/python3.10/dist-packages (from torch>=1.8.0->-r /content/yolov5/requirements.txt (line 15)) (3.13.1)\n",
            "Requirement already satisfied: typing-extensions>=4.8.0 in /usr/local/lib/python3.10/dist-packages (from torch>=1.8.0->-r /content/yolov5/requirements.txt (line 15)) (4.10.0)\n",
            "Requirement already satisfied: sympy in /usr/local/lib/python3.10/dist-packages (from torch>=1.8.0->-r /content/yolov5/requirements.txt (line 15)) (1.12)\n",
            "Requirement already satisfied: networkx in /usr/local/lib/python3.10/dist-packages (from torch>=1.8.0->-r /content/yolov5/requirements.txt (line 15)) (3.2.1)\n",
            "Requirement already satisfied: jinja2 in /usr/local/lib/python3.10/dist-packages (from torch>=1.8.0->-r /content/yolov5/requirements.txt (line 15)) (3.1.3)\n",
            "Requirement already satisfied: fsspec in /usr/local/lib/python3.10/dist-packages (from torch>=1.8.0->-r /content/yolov5/requirements.txt (line 15)) (2023.6.0)\n",
            "Collecting nvidia-cuda-nvrtc-cu12==12.1.105 (from torch>=1.8.0->-r /content/yolov5/requirements.txt (line 15))\n",
            "  Downloading nvidia_cuda_nvrtc_cu12-12.1.105-py3-none-manylinux1_x86_64.whl (23.7 MB)\n",
            "\u001b[2K     \u001b[90m━━━━━━━━━━━━━━━━━━━━━━━━━━━━━━━━━━━━━━━━\u001b[0m \u001b[32m23.7/23.7 MB\u001b[0m \u001b[31m19.6 MB/s\u001b[0m eta \u001b[36m0:00:00\u001b[0m\n",
            "\u001b[?25hCollecting nvidia-cuda-runtime-cu12==12.1.105 (from torch>=1.8.0->-r /content/yolov5/requirements.txt (line 15))\n",
            "  Downloading nvidia_cuda_runtime_cu12-12.1.105-py3-none-manylinux1_x86_64.whl (823 kB)\n",
            "\u001b[2K     \u001b[90m━━━━━━━━━━━━━━━━━━━━━━━━━━━━━━━━━━━━━━━━\u001b[0m \u001b[32m823.6/823.6 kB\u001b[0m \u001b[31m48.0 MB/s\u001b[0m eta \u001b[36m0:00:00\u001b[0m\n",
            "\u001b[?25hCollecting nvidia-cuda-cupti-cu12==12.1.105 (from torch>=1.8.0->-r /content/yolov5/requirements.txt (line 15))\n",
            "  Downloading nvidia_cuda_cupti_cu12-12.1.105-py3-none-manylinux1_x86_64.whl (14.1 MB)\n",
            "\u001b[2K     \u001b[90m━━━━━━━━━━━━━━━━━━━━━━━━━━━━━━━━━━━━━━━━\u001b[0m \u001b[32m14.1/14.1 MB\u001b[0m \u001b[31m45.7 MB/s\u001b[0m eta \u001b[36m0:00:00\u001b[0m\n",
            "\u001b[?25hCollecting nvidia-cudnn-cu12==8.9.2.26 (from torch>=1.8.0->-r /content/yolov5/requirements.txt (line 15))\n",
            "  Downloading nvidia_cudnn_cu12-8.9.2.26-py3-none-manylinux1_x86_64.whl (731.7 MB)\n",
            "\u001b[2K     \u001b[90m━━━━━━━━━━━━━━━━━━━━━━━━━━━━━━━━━━━━━━━━\u001b[0m \u001b[32m731.7/731.7 MB\u001b[0m \u001b[31m726.6 kB/s\u001b[0m eta \u001b[36m0:00:00\u001b[0m\n",
            "\u001b[?25hCollecting nvidia-cublas-cu12==12.1.3.1 (from torch>=1.8.0->-r /content/yolov5/requirements.txt (line 15))\n",
            "  Downloading nvidia_cublas_cu12-12.1.3.1-py3-none-manylinux1_x86_64.whl (410.6 MB)\n",
            "\u001b[2K     \u001b[91m━━━━━━━━━━━━━━━━\u001b[0m\u001b[90m╺\u001b[0m\u001b[90m━━━━━━━━━━━━━━━━━━━━━━━\u001b[0m \u001b[32m169.0/410.6 MB\u001b[0m \u001b[31m8.2 MB/s\u001b[0m eta \u001b[36m0:00:30\u001b[0m"
          ]
        }
      ]
    },
    {
      "cell_type": "code",
      "source": [
        "from yolov5 import train"
      ],
      "metadata": {
        "id": "tUZ26lNBuMRT"
      },
      "execution_count": null,
      "outputs": []
    },
    {
      "cell_type": "markdown",
      "source": [
        "Все параметры установим как в статье. Используем yolov5n."
      ],
      "metadata": {
        "id": "eMqgwLSmvh8R"
      }
    },
    {
      "cell_type": "code",
      "source": [
        "train.run(\n",
        "    cfg='yolov5/models/yolov5n.yaml',\n",
        "    data='WaRP_project/warp-d_config.yaml',\n",
        "    epochs=40,\n",
        "    lr0 = 0.01,\n",
        "    warmup_epochs = 3,\n",
        "    close_mosaic = 10,\n",
        "    weight_decay = 0.0005,\n",
        "    momentum = 0.937,\n",
        "    optimizer='SGD',\n",
        "    batch_size=4,\n",
        "    imgsz=640,\n",
        "    mixup = 0.5,\n",
        "    degrees = 90,\n",
        "\n",
        ")"
      ],
      "metadata": {
        "id": "L1lh6iaBvNWw"
      },
      "execution_count": null,
      "outputs": []
    },
    {
      "cell_type": "markdown",
      "source": [
        "**TOOD model**"
      ],
      "metadata": {
        "id": "eSfUCfubH6ms"
      }
    },
    {
      "cell_type": "code",
      "source": [],
      "metadata": {
        "id": "MU-2VUAxICxR"
      },
      "execution_count": null,
      "outputs": []
    }
  ]
}
